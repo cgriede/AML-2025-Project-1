{
 "cells": [
  {
   "cell_type": "markdown",
   "id": "fbbbf2c3",
   "metadata": {},
   "source": [
    "# Load the data"
   ]
  },
  {
   "cell_type": "code",
   "execution_count": 1,
   "id": "7806c02e",
   "metadata": {},
   "outputs": [
    {
     "name": "stdout",
     "output_type": "stream",
     "text": [
      "X_train.shape (1212, 832), y_train.shape (1212, 1), X_test.shape (776, 832)\n",
      "              x0            x1           x2             x3          x4  \\\n",
      "id                                                                       \n",
      "0   14168.823171  10514.380717  3316.149698   94230.695124  102.386606   \n",
      "1   17757.037554           NaN  4101.016273   92959.527633         NaN   \n",
      "2   14226.656663  11029.642499          NaN  124055.600561  100.542483   \n",
      "3    8766.012436   7384.202998  2147.308418  100157.719990  104.855061   \n",
      "4   13801.016418  13269.493652  3408.316953   92048.527786  103.759758   \n",
      "\n",
      "            x5            x6            x7            x8         x9  ...  \\\n",
      "id                                                                   ...   \n",
      "0    92.677127  11108.748199  10866.505510  10837.622093  10.227734  ...   \n",
      "1    99.855168  10013.959449  10826.607494  10076.101597  11.436970  ...   \n",
      "2    92.860892           NaN  10492.342868           NaN  10.810076  ...   \n",
      "3   101.929026  10050.049932  10499.521099  10525.030989  10.092109  ...   \n",
      "4    95.789235   9667.353978  10750.783106  10618.800750  12.006773  ...   \n",
      "\n",
      "            x822          x823        x824        x825        x826  \\\n",
      "id                                                                   \n",
      "0            NaN  12352.094085  846.014651  105.132144  102.112809   \n",
      "1            NaN  16198.071494  776.084467  106.385590  103.472030   \n",
      "2   10329.704431  13976.063780  737.040332  103.671234  109.458246   \n",
      "3   10008.251395   6212.127347  329.044233  105.084488  104.858546   \n",
      "4   10095.782015  13772.061493         NaN         NaN  100.369834   \n",
      "\n",
      "           x827      x828         x829         x830          x831  \n",
      "id                                                                 \n",
      "0   2090.004260  2.691845  1234.374109  1000.784475   9285.751272  \n",
      "1   2474.051881  2.287976          NaN  1012.626705  11750.284764  \n",
      "2   2656.083281  2.843706   888.353607  1048.810385   9553.922728  \n",
      "3   1097.785204  2.732257   927.752967  1048.357330           NaN  \n",
      "4   2693.053231  2.702908  1471.354073  1071.284484   9423.533063  \n",
      "\n",
      "[5 rows x 832 columns]\n"
     ]
    }
   ],
   "source": [
    "import pandas as pd\n",
    "import numpy as np\n",
    "from pathlib import Path\n",
    "data_dir = Path(\"data\")\n",
    "\n",
    "X_test = data_dir / \"X_test.csv\"\n",
    "y_train = data_dir / \"y_train.csv\"\n",
    "X_train = data_dir / \"X_train.csv\"\n",
    "\n",
    "X_test = pd.read_csv(X_test, index_col=\"id\")\n",
    "X_test.index = X_test.index.astype(int)\n",
    "\n",
    "y_train = pd.read_csv(y_train, index_col=\"id\")\n",
    "y_train.index = y_train.index.astype(int)\n",
    "\n",
    "X_train = pd.read_csv(X_train, index_col=\"id\")\n",
    "X_train.index = X_train.index.astype(int)\n",
    "\n",
    "print(f\"X_train.shape {X_train.shape}, y_train.shape {y_train.shape}, X_test.shape {X_test.shape}\")\n",
    "\n",
    "print(X_train.head())"
   ]
  },
  {
   "cell_type": "code",
   "execution_count": 2,
   "id": "de7d5437",
   "metadata": {},
   "outputs": [
    {
     "data": {
      "image/png": "[encoded data removed]",
      "text/plain": [
       "<Figure size 640x480 with 1 Axes>"
      ]
     },
     "metadata": {},
     "output_type": "display_data"
    }
   ],
   "source": [
    "#have a look at the data\n",
    "import matplotlib.pyplot as plt\n",
    "plt.hist(y_train.values, bins=50)\n",
    "plt.xlabel(\"Target Variable\")\n",
    "plt.ylabel(\"Frequency\")\n",
    "plt.title(\"Distribution of Target Variable\")\n",
    "plt.show()\n"
   ]
  },
  {
   "cell_type": "markdown",
   "id": "ad6b28cc",
   "metadata": {},
   "source": [
    "# 1. imputing missing values\n",
    "\n",
    "First we impute nan values with the mean for each feature"
   ]
  },
  {
   "cell_type": "code",
   "execution_count": 3,
   "id": "ef5a23ae",
   "metadata": {},
   "outputs": [
    {
     "name": "stdout",
     "output_type": "stream",
     "text": [
      "Nan-values: 0\n",
      "              x0            x1           x2             x3          x4  \\\n",
      "id                                                                       \n",
      "0   14168.823171  10514.380717  3316.149698   94230.695124  102.386606   \n",
      "1   17757.037554  10950.160761  4101.016273   92959.527633  105.070358   \n",
      "2   14226.656663  11029.642499  3430.837498  124055.600561  100.542483   \n",
      "3    8766.012436   7384.202998  2147.308418  100157.719990  104.855061   \n",
      "4   13801.016418  13269.493652  3408.316953   92048.527786  103.759758   \n",
      "\n",
      "            x5            x6            x7            x8         x9  ...  \\\n",
      "id                                                                   ...   \n",
      "0    92.677127  11108.748199  10866.505510  10837.622093  10.227734  ...   \n",
      "1    99.855168  10013.959449  10826.607494  10076.101597  11.436970  ...   \n",
      "2    92.860892   9983.055476  10492.342868  10495.835570  10.810076  ...   \n",
      "3   101.929026  10050.049932  10499.521099  10525.030989  10.092109  ...   \n",
      "4    95.789235   9667.353978  10750.783106  10618.800750  12.006773  ...   \n",
      "\n",
      "            x822          x823        x824        x825        x826  \\\n",
      "id                                                                   \n",
      "0   10069.191241  12352.094085  846.014651  105.132144  102.112809   \n",
      "1   10069.191241  16198.071494  776.084467  106.385590  103.472030   \n",
      "2   10329.704431  13976.063780  737.040332  103.671234  109.458246   \n",
      "3   10008.251395   6212.127347  329.044233  105.084488  104.858546   \n",
      "4   10095.782015  13772.061493  812.316152  104.968652  100.369834   \n",
      "\n",
      "           x827      x828         x829         x830          x831  \n",
      "id                                                                 \n",
      "0   2090.004260  2.691845  1234.374109  1000.784475   9285.751272  \n",
      "1   2474.051881  2.287976  1359.981226  1012.626705  11750.284764  \n",
      "2   2656.083281  2.843706   888.353607  1048.810385   9553.922728  \n",
      "3   1097.785204  2.732257   927.752967  1048.357330   9981.085085  \n",
      "4   2693.053231  2.702908  1471.354073  1071.284484   9423.533063  \n",
      "\n",
      "[5 rows x 832 columns]\n"
     ]
    }
   ],
   "source": [
    "X_train.fillna(pd.Series(X_train.mean()), inplace=True)\n",
    "print(f\"Nan-values: {X_train.isna().sum().sum()}\")\n",
    "print(X_train.head())\n",
    "X_test.fillna(pd.Series(X_test.mean()), inplace=True)\n",
    "y_train.fillna(pd.Series(y_train.mean()), inplace=True)"
   ]
  },
  {
   "cell_type": "markdown",
   "id": "d86d4ae2",
   "metadata": {},
   "source": [
    "# 2. Outlier detection\n",
    "Next we build an outlier detection model to classify samples as outliers and eventually remove them"
   ]
  },
  {
   "cell_type": "code",
   "execution_count": 4,
   "id": "3c2064cd",
   "metadata": {},
   "outputs": [
    {
     "name": "stdout",
     "output_type": "stream",
     "text": [
      "Outlier indices: {np.int64(3), np.int64(515), np.int64(645), np.int64(900), np.int64(1031), np.int64(648), np.int64(906), np.int64(397), np.int64(917), np.int64(278), np.int64(24), np.int64(1048), np.int64(30), np.int64(416), np.int64(1056), np.int64(1058), np.int64(805), np.int64(167), np.int64(297), np.int64(681), np.int64(428), np.int64(306), np.int64(821), np.int64(694), np.int64(697), np.int64(953), np.int64(573), np.int64(190), np.int64(575), np.int64(64), np.int64(321), np.int64(448), np.int64(837), np.int64(70), np.int64(583), np.int64(75), np.int64(460), np.int64(972), np.int64(1102), np.int64(335), np.int64(474), np.int64(91), np.int64(731), np.int64(860), np.int64(991), np.int64(480), np.int64(225), np.int64(1120), np.int64(100), np.int64(229), np.int64(740), np.int64(231), np.int64(234), np.int64(362), np.int64(1137), np.int64(114), np.int64(882), np.int64(502), np.int64(1144), np.int64(506), np.int64(1150)}\n",
      "Number of outliers detected: 61\n"
     ]
    }
   ],
   "source": [
    "#outlier detection using isolation forest and guessing the contamination to be 5%\n",
    "\n",
    "from sklearn.ensemble import IsolationForest\n",
    "outlier_model = IsolationForest(contamination=0.05, random_state=42)\n",
    "outlier_model.fit(X_train)\n",
    "outlier_preds = outlier_model.predict(X_train)\n",
    "isoforest_outlier_indices = set(np.where(outlier_preds == -1)[0])\n",
    "\n",
    "print(\"Outlier indices:\", isoforest_outlier_indices)\n",
    "\n",
    "print(f\"Number of outliers detected: {len(isoforest_outlier_indices)}\")"
   ]
  },
  {
   "cell_type": "code",
   "execution_count": 5,
   "id": "cac8194d",
   "metadata": {},
   "outputs": [
    {
     "name": "stdout",
     "output_type": "stream",
     "text": [
      "SVM Outlier indices: [  16   30   32   56   70   72   88   91  142  168  180  207  211  214\n",
      "  245  278  313  321  334  352  397  403  404  431  518  537  545  553\n",
      "  570  574  583  616  622  631  633  635  681  694  731  732  741  755\n",
      "  771  805  806  808  836  872  882  888  899  900  906  917  949  953\n",
      "  972  990  994 1001 1038 1066 1081 1087 1102 1132 1135 1144 1205]\n",
      "Number of outliers detected by SVM: 69\n",
      "Number of common outliers detected by both methods: 19\n",
      "Common outlier indices: {np.int64(900), np.int64(906), np.int64(397), np.int64(917), np.int64(278), np.int64(30), np.int64(805), np.int64(681), np.int64(694), np.int64(953), np.int64(321), np.int64(70), np.int64(583), np.int64(972), np.int64(1102), np.int64(731), np.int64(91), np.int64(882), np.int64(1144)}\n"
     ]
    }
   ],
   "source": [
    "# outlier detection using OneClassSVM\n",
    "\n",
    "from sklearn.svm import OneClassSVM\n",
    "from sklearn.preprocessing import StandardScaler\n",
    "\n",
    "scaler = StandardScaler()\n",
    "X_train_scaled = scaler.fit_transform(X_train)\n",
    "\n",
    "svm_model = OneClassSVM(nu=0.01, kernel=\"rbf\", gamma=\"scale\")\n",
    "svm_model.fit(X_train_scaled)\n",
    "svm_preds = svm_model.predict(X_train_scaled)\n",
    "\n",
    "print(\"SVM Outlier indices:\", np.where(svm_preds == -1)[0])\n",
    "\n",
    "svm_outlier_indices = set(np.where(svm_preds == -1)[0])\n",
    "\n",
    "print(f\"Number of outliers detected by SVM: {np.sum(svm_preds == -1)}\")\n",
    "\n",
    "# Comparing the two methods\n",
    "common_outliers = isoforest_outlier_indices & svm_outlier_indices\n",
    "print(f\"Number of common outliers detected by both methods: {len(common_outliers)}\")\n",
    "print(\"Common outlier indices:\", common_outliers)"
   ]
  },
  {
   "cell_type": "code",
   "execution_count": 6,
   "id": "71f5a894",
   "metadata": {},
   "outputs": [
    {
     "name": "stdout",
     "output_type": "stream",
     "text": [
      "Cleaned X_train shape: (1193, 832), Cleaned y_train shape: (1193, 1)\n"
     ]
    }
   ],
   "source": [
    "#removing outliers from the training data\n",
    "X_train_cleaned = X_train.drop(index=X_train.index[list(common_outliers)])\n",
    "y_train_cleaned = y_train.drop(index=y_train.index[list(common_outliers)])\n",
    "print(f\"Cleaned X_train shape: {X_train_cleaned.shape}, Cleaned y_train shape: {y_train_cleaned.shape}\")"
   ]
  },
  {
   "cell_type": "markdown",
   "id": "84833e4d",
   "metadata": {},
   "source": [
    "# 3. Feature selection\n",
    "In order to perform a useful regression we need to select features suitable for the age prediction"
   ]
  },
  {
   "cell_type": "code",
   "execution_count": 7,
   "id": "eebc46c3",
   "metadata": {},
   "outputs": [],
   "source": [
    "\n",
    "def correlation_matrix_reduction():\n",
    "    corr_matrix = X_train_cleaned.corr().abs()  # absolute value\n",
    "\n",
    "    # Mask upper triangle\n",
    "    upper = corr_matrix.where(np.triu(np.ones(corr_matrix.shape), k=1).astype(bool))\n",
    "\n",
    "    # Find features with correlation > threshold\n",
    "    to_drop = [column for column in upper.columns if any(upper[column] > 0.9)]\n",
    "    print(\"Highly correlated features to drop:\", to_drop)\n",
    "    print(f\"Number of features to drop: {len(to_drop)}\")\n",
    "    return to_drop"
   ]
  },
  {
   "cell_type": "markdown",
   "id": "6df4d015",
   "metadata": {},
   "source": [
    "# Feature selection\n",
    "\n",
    "this step is harder than imagined, a new idea came to my mind:\n",
    "\n",
    "1: select a subset of features randomly, train and score the predictions, as well as the features used\n",
    "\n",
    "2: do it for another subset\n",
    "\n",
    "3: mark the features which occur in higher scored subsets and use these for the final training (Monte Carlo aproach)"
   ]
  },
  {
   "cell_type": "code",
   "execution_count": 8,
   "id": "6440cd8c",
   "metadata": {},
   "outputs": [],
   "source": [
    "from subset_selector import RandomSubsetSelector\n",
    "from xgboost import XGBRegressor\n",
    "\n",
    "selector = RandomSubsetSelector(\n",
    "    estimator=XGBRegressor(\n",
    "        n_estimators=100,      # Number of trees; start low for speed in subset selection\n",
    "        max_depth=4,           # Tree depth; controls complexity\n",
    "        learning_rate=0.05,     # Step size; balances speed and accuracy\n",
    "        subsample=0.6,         # Fraction of samples per tree; adds randomness\n",
    "        colsample_bytree=0.6,  # Fraction of features per tree; helps with high-dimensional data\n",
    "        random_state=42,       # For reproducibility\n",
    "        n_jobs=-1              # Use all cores\n",
    "    ),\n",
    "    n_trials=1200,          # more trials → better coverage\n",
    "    subset_frac=0.02,\n",
    "    cv=4,\n",
    "    top_k=400,\n",
    "    n_jobs=-1,\n",
    "    verbose=True,\n",
    "    random_state=42,\n",
    "    max_samples=300,\n",
    ")\n",
    "load_cached = True\n",
    "\n",
    "filename = Path(\"feature_selection\") / \"random_subset_selector_features.csv\"\n",
    "if not load_cached:\n",
    "    X_selected = selector.fit_transform(X_train_cleaned, y_train_cleaned, feature_names=X_train_cleaned.columns)\n",
    "    with open(filename, \"w\") as f:\n",
    "        for feature in selector.selected_features_:\n",
    "            f.write(f\"{feature}\\n\")\n",
    "    print(\"\\n=== Top-10 most frequent features in best subsets ===\")\n",
    "    print(selector.summary.head(20))\n",
    "    print(f\"Selected feature set shape: {X_selected.shape}\")\n",
    "else:\n",
    "    with open(filename, \"r\") as f:\n",
    "        cols = [line.strip() for line in f.readlines()]\n",
    "    X_selected = X_train_cleaned[cols]\n",
    "\n"
   ]
  },
  {
   "cell_type": "markdown",
   "id": "a33f0ae5",
   "metadata": {},
   "source": [
    "# Main Task, fit a model"
   ]
  },
  {
   "cell_type": "code",
   "execution_count": 17,
   "id": "5b3e728f",
   "metadata": {},
   "outputs": [],
   "source": [
    "import torch\n",
    "import torch.nn as nn\n",
    "import torch.optim as optim\n",
    "from skorch import NeuralNetRegressor\n",
    "from skorch.callbacks import EarlyStopping\n",
    "\n",
    "activation = nn.Sigmoid\n",
    "\n",
    "# Define a simple MLP module\n",
    "class MLP(nn.Module):\n",
    "    def __init__(self, input_dim, hidden_units=128, num_layers=2, dropout=0.2):\n",
    "        super(MLP, self).__init__()\n",
    "        layers = [nn.Linear(input_dim, hidden_units), activation(), nn.Dropout(dropout)]\n",
    "        for _ in range(1, num_layers):\n",
    "            layers.extend([nn.Linear(hidden_units, hidden_units), activation(), nn.Dropout(dropout)])\n",
    "        layers.append(nn.Linear(hidden_units, 1))  # Regression output\n",
    "        self.network = nn.Sequential(*layers)\n",
    "\n",
    "    def forward(self, x):\n",
    "        return self.network(x)"
   ]
  },
  {
   "cell_type": "code",
   "execution_count": 20,
   "id": "03c45a64",
   "metadata": {},
   "outputs": [
    {
     "name": "stdout",
     "output_type": "stream",
     "text": [
      "\n",
      "Training TorchNN...\n",
      "Fitting 10 folds for each of 10 candidates, totalling 100 fits\n",
      "→ TorchNN | CV R²: 0.4311 | Test R²: 0.4428 | Test MAE: 5.1363\n",
      "\n",
      "============================================================\n",
      "FINAL MODEL COMPARISON\n",
      "============================================================\n",
      "  Model  Best R² (CV)  Train R²  Test R²  Test MAE\n",
      "TorchNN        0.4311    0.5286   0.4428    5.1363\n",
      "                                                                                                                                                                          Best Params\n",
      "{'model__optimizer__lr': 0.001, 'model__module__num_layers': 3, 'model__module__hidden_units': 128, 'model__module__dropout': 0.5, 'model__max_epochs': 400, 'model__batch_size': 32}\n"
     ]
    }
   ],
   "source": [
    "# === MULTI-MODEL COMPARISON FOR BRAIN MRI AGE PREDICTION ===\n",
    "\n",
    "from sklearn.model_selection import RepeatedKFold, GridSearchCV, train_test_split, RandomizedSearchCV\n",
    "from sklearn.pipeline import Pipeline\n",
    "from sklearn.preprocessing import StandardScaler\n",
    "from sklearn.metrics import make_scorer, r2_score, mean_absolute_error\n",
    "import numpy as np\n",
    "import pandas as pd\n",
    "from lightgbm import LGBMRegressor\n",
    "from catboost import CatBoostRegressor\n",
    "# --- 1. Split (keep X_selected from RandomSubsetSelector) ---\n",
    "X_train, X_t, y_train, y_t = train_test_split(\n",
    "    X_selected, y_train_cleaned, test_size=0.15, random_state=42\n",
    ")\n",
    "\n",
    "X_train = X_train.astype(np.float32).values\n",
    "X_t = X_t.astype(np.float32).values\n",
    "y_train = y_train.astype(np.float32).values\n",
    "y_t = y_t.astype(np.float32).values\n",
    "\n",
    "# --- 2. CV Strategy ---\n",
    "cv = RepeatedKFold(n_splits=5, n_repeats=2, random_state=42)\n",
    "scorer = make_scorer(r2_score, greater_is_better=True)\n",
    "\n",
    "good_model = {\n",
    "    \"XGBoost\": {\n",
    "        \"model\": XGBRegressor(random_state=35, n_jobs=-1),\n",
    "        \"params\": {\n",
    "            \"model__n_estimators\": [500],\n",
    "            \"model__max_depth\": [5,], \n",
    "            \"model__learning_rate\": [0.02],\n",
    "            \"model__subsample\": [0.8],\n",
    "            \"model__colsample_bytree\": [0.7],\n",
    "            \"model__gamma\": [1],\n",
    "            \"model__reg_alpha\": [0.1],\n",
    "        },\n",
    "        \"needs_scaling\": True\n",
    "    },\n",
    "}\n",
    "\n",
    "\n",
    "# --- 3. Models & Hyperparameter Grids ---\n",
    "models = {\n",
    "    \"TorchNN\": {\n",
    "            \"model\": NeuralNetRegressor(\n",
    "                module=MLP,\n",
    "                module__input_dim=X_selected.shape[1],\n",
    "                criterion=nn.MSELoss,\n",
    "                optimizer=optim.Adam,\n",
    "                max_epochs=200,\n",
    "                batch_size=32,\n",
    "                device='cuda' if torch.cuda.is_available() else 'cpu',  # GPU if available\n",
    "                callbacks=[EarlyStopping(monitor='valid_loss', patience=30, threshold=0.0001)],\n",
    "                verbose=0,\n",
    "            ),\n",
    "            \"params\": {\n",
    "                \"model__module__hidden_units\": [32, 64, 128, 256, 512],  # Neurons per layer\n",
    "                \"model__module__num_layers\": [2, 3, ],         # Depth\n",
    "                \"model__module__dropout\": [0.3, 0.5, 0.7],      # Regularization\n",
    "                \"model__optimizer__lr\": [0.001, 0.005], # Learning rate\n",
    "                \"model__max_epochs\": [200, 400, 600, ],           # Training epochs\n",
    "                \"model__batch_size\": [16, 32]               # Batch size\n",
    "            },\n",
    "            \"needs_scaling\": True\n",
    "        },\n",
    "}\n",
    "\n",
    "# --- 4. Train & Compare ---\n",
    "results = []\n",
    "\n",
    "for name, config in models.items():\n",
    "    print(f\"\\nTraining {name}...\")\n",
    "    \n",
    "    # Build pipeline\n",
    "    steps = []\n",
    "    if config[\"needs_scaling\"]:\n",
    "        steps.append((\"scaler\", StandardScaler()))\n",
    "    steps.append((\"model\", config[\"model\"]))\n",
    "    pipe = Pipeline(steps)\n",
    "    \n",
    "    # Grid search\n",
    "    gs = RandomizedSearchCV(\n",
    "        pipe, config[\"params\"], cv=cv, scoring=scorer, n_jobs=-1, verbose=1\n",
    "    )\n",
    "\n",
    "    gs.fit(X_train, y_train)\n",
    "    \n",
    "    # Predict\n",
    "    y_train_pred = gs.predict(X_train)\n",
    "    y_test_pred = gs.predict(X_t)\n",
    "    \n",
    "    # Metrics\n",
    "    train_r2 = r2_score(y_train, y_train_pred)\n",
    "    test_r2 = r2_score(y_t, y_test_pred)\n",
    "    test_mae = mean_absolute_error(y_t, y_test_pred)\n",
    "    \n",
    "    results.append({\n",
    "        \"Model\": name,\n",
    "        \"Best R² (CV)\": gs.best_score_,\n",
    "        \"Train R²\": train_r2,\n",
    "        \"Test R²\": test_r2,\n",
    "        \"Test MAE\": test_mae,\n",
    "        \"Best Params\": gs.best_params_\n",
    "    })\n",
    "\n",
    "    print(f\"→ {name} | CV R²: {gs.best_score_:.4f} | Test R²: {test_r2:.4f} | Test MAE: {test_mae:.4f}\")\n",
    "\n",
    "# --- 5. Results Table ---\n",
    "results_df = pd.DataFrame(results).round(4)\n",
    "print(\"\\n\" + \"=\"*60)\n",
    "print(\"FINAL MODEL COMPARISON\")\n",
    "print(\"=\"*60)\n",
    "print(results_df[[\"Model\", \"Best R² (CV)\", \"Train R²\", \"Test R²\", \"Test MAE\"]].to_string(index=False))\n",
    "print(results_df[[\"Best Params\"]].to_string(index=False))"
   ]
  },
  {
   "cell_type": "markdown",
   "id": "c95b33e9",
   "metadata": {},
   "source": [
    "# Train the model once again on the full dataset for the public test"
   ]
  },
  {
   "cell_type": "code",
   "execution_count": null,
   "id": "25dc178d",
   "metadata": {},
   "outputs": [],
   "source": [
    "def final_training(model):\n",
    "    params = results_df[[\"Best Params\"]].iloc[0].values[0]\n",
    "    print(params)\n",
    "    model = model(**params)\n",
    "    model.fit(X_selected, y_train_cleaned)\n",
    "    return model"
   ]
  },
  {
   "cell_type": "markdown",
   "id": "eafaaf37",
   "metadata": {},
   "source": [
    "# Save the test results for online evaluation"
   ]
  },
  {
   "cell_type": "code",
   "execution_count": null,
   "id": "14764918",
   "metadata": {},
   "outputs": [
    {
     "name": "stdout",
     "output_type": "stream",
     "text": [
      "{'model__learning_rate': 0.02, 'model__max_depth': 6, 'model__n_estimators': 200, 'model__subsample': 0.8}\n"
     ]
    },
    {
     "name": "stderr",
     "output_type": "stream",
     "text": [
      "c:\\conda\\envs\\LRF\\lib\\site-packages\\xgboost\\training.py:199: UserWarning: [00:19:18] WARNING: C:\\actions-runner\\_work\\xgboost\\xgboost\\src\\learner.cc:790: \n",
      "Parameters: { \"model__learning_rate\", \"model__max_depth\", \"model__n_estimators\", \"model__subsample\" } are not used.\n",
      "\n",
      "  bst.update(dtrain, iteration=i, fobj=obj)\n"
     ]
    },
    {
     "name": "stdout",
     "output_type": "stream",
     "text": [
      "Test predictions saved to results\\test_xgboost_20251030_001918.csv\n"
     ]
    },
    {
     "data": {
      "text/plain": [
       "'kaggle competitions submit -c eth-aml-2025-project-1 -f submission.csv -m \"Message\"'"
      ]
     },
     "execution_count": 21,
     "metadata": {},
     "output_type": "execute_result"
    }
   ],
   "source": [
    "from datetime import datetime\n",
    "\n",
    "results_dir = Path(\"results\")\n",
    "results_dir.mkdir(exist_ok=True)\n",
    "\n",
    "\n",
    "def save_test_predictions(model, model_name):\n",
    "    model = final_training(model)\n",
    "    save_path = results_dir / f\"test_{model_name}_{datetime.now().strftime('%Y%m%d_%H%M%S')}.csv\"\n",
    "\n",
    "    y_test_pred = model.predict(X_test[X_selected.columns])\n",
    "    results_df = pd.DataFrame(y_test_pred, index=X_test.index, columns=[\"y\"])\n",
    "    assert (results_df.shape == (776, 1)), f\"Unexpected shape: {results_df.shape}\"\n",
    "    results_df.to_csv(save_path)\n",
    "    print(f\"Test predictions saved to {save_path}\")\n",
    "\n",
    "save_test_predictions(XGBRegressor, \"xgboost\")\n",
    "\n",
    "'kaggle competitions submit -c eth-aml-2025-project-1 -f submission.csv -m \"Message\"'"
   ]
  }
 ],
 "metadata": {
  "kernelspec": {
   "display_name": "LRF",
   "language": "python",
   "name": "python3"
  },
  "language_info": {
   "codemirror_mode": {
    "name": "ipython",
    "version": 3
   },
   "file_extension": ".py",
   "mimetype": "text/x-python",
   "name": "python",
   "nbconvert_exporter": "python",
   "pygments_lexer": "ipython3",
   "version": "3.10.16"
  }
 },
 "nbformat": 4,
 "nbformat_minor": 5
}
