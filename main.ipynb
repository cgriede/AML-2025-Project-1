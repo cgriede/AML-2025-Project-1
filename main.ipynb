{
 "cells": [
  {
   "cell_type": "markdown",
   "id": "fbbbf2c3",
   "metadata": {},
   "source": [
    "# Load the data"
   ]
  },
  {
   "cell_type": "code",
   "execution_count": null,
   "id": "7806c02e",
   "metadata": {},
   "outputs": [
    {
     "ename": "ImportError",
     "evalue": "cannot import name 'RandomSubsetSelector' from 'subset_selector' (c:\\Users\\cgriede\\Desktop\\code\\AML-2025-Project-1\\subset_selector.py)",
     "output_type": "error",
     "traceback": [
      "\u001b[31m---------------------------------------------------------------------------\u001b[39m",
      "\u001b[31mImportError\u001b[39m                               Traceback (most recent call last)",
      "\u001b[36mCell\u001b[39m\u001b[36m \u001b[39m\u001b[32mIn[9]\u001b[39m\u001b[32m, line 4\u001b[39m\n\u001b[32m      2\u001b[39m \u001b[38;5;28;01mimport\u001b[39;00m\u001b[38;5;250m \u001b[39m\u001b[34;01mnumpy\u001b[39;00m\u001b[38;5;250m \u001b[39m\u001b[38;5;28;01mas\u001b[39;00m\u001b[38;5;250m \u001b[39m\u001b[34;01mnp\u001b[39;00m\n\u001b[32m      3\u001b[39m \u001b[38;5;28;01mfrom\u001b[39;00m\u001b[38;5;250m \u001b[39m\u001b[34;01mpathlib\u001b[39;00m\u001b[38;5;250m \u001b[39m\u001b[38;5;28;01mimport\u001b[39;00m Path\n\u001b[32m----> \u001b[39m\u001b[32m4\u001b[39m \u001b[38;5;28;01mfrom\u001b[39;00m\u001b[38;5;250m \u001b[39m\u001b[34;01msubset_selector\u001b[39;00m\u001b[38;5;250m \u001b[39m\u001b[38;5;28;01mimport\u001b[39;00m RandomSubsetSelector\n\u001b[32m      5\u001b[39m data_dir = Path(\u001b[33m\"\u001b[39m\u001b[33mdata\u001b[39m\u001b[33m\"\u001b[39m)\n\u001b[32m      7\u001b[39m X_test = data_dir / \u001b[33m\"\u001b[39m\u001b[33mX_test.csv\u001b[39m\u001b[33m\"\u001b[39m\n",
      "\u001b[31mImportError\u001b[39m: cannot import name 'RandomSubsetSelector' from 'subset_selector' (c:\\Users\\cgriede\\Desktop\\code\\AML-2025-Project-1\\subset_selector.py)"
     ]
    }
   ],
   "source": [
    "import pandas as pd\n",
    "import numpy as np\n",
    "from pathlib import Path\n",
    "data_dir = Path(\"data\")\n",
    "\n",
    "X_test = data_dir / \"X_test.csv\"\n",
    "y_train = data_dir / \"y_train.csv\"\n",
    "X_train = data_dir / \"X_train.csv\"\n",
    "\n",
    "X_test = pd.read_csv(X_test, index_col=\"id\")\n",
    "X_test.index = X_test.index.astype(int)\n",
    "\n",
    "y_train = pd.read_csv(y_train, index_col=\"id\")\n",
    "y_train.index = y_train.index.astype(int)\n",
    "\n",
    "X_train = pd.read_csv(X_train, index_col=\"id\")\n",
    "X_train.index = X_train.index.astype(int)\n",
    "\n",
    "print(f\"X_train.shape {X_train.shape}, y_train.shape {y_train.shape}, X_test.shape {X_test.shape}\")\n",
    "\n",
    "print(X_train.head())"
   ]
  },
  {
   "cell_type": "code",
   "execution_count": 2,
   "id": "de7d5437",
   "metadata": {},
   "outputs": [
    {
     "data": {
      "image/png": "[encoded data removed]",
      "text/plain": [
       "<Figure size 640x480 with 1 Axes>"
      ]
     },
     "metadata": {},
     "output_type": "display_data"
    }
   ],
   "source": [
    "#have a look at the data\n",
    "import matplotlib.pyplot as plt\n",
    "plt.hist(y_train.values, bins=50)\n",
    "plt.xlabel(\"Target Variable\")\n",
    "plt.ylabel(\"Frequency\")\n",
    "plt.title(\"Distribution of Target Variable\")\n",
    "plt.show()\n"
   ]
  },
  {
   "cell_type": "markdown",
   "id": "ad6b28cc",
   "metadata": {},
   "source": [
    "# 1. imputing missing values\n",
    "\n",
    "First we impute nan values with the mean for each feature"
   ]
  },
  {
   "cell_type": "code",
   "execution_count": 3,
   "id": "ef5a23ae",
   "metadata": {},
   "outputs": [
    {
     "name": "stdout",
     "output_type": "stream",
     "text": [
      "Nan-values: 0\n",
      "              x0            x1           x2             x3          x4  \\\n",
      "id                                                                       \n",
      "0   14168.823171  10514.380717  3316.149698   94230.695124  102.386606   \n",
      "1   17757.037554  10950.160761  4101.016273   92959.527633  105.070358   \n",
      "2   14226.656663  11029.642499  3430.837498  124055.600561  100.542483   \n",
      "3    8766.012436   7384.202998  2147.308418  100157.719990  104.855061   \n",
      "4   13801.016418  13269.493652  3408.316953   92048.527786  103.759758   \n",
      "\n",
      "            x5            x6            x7            x8         x9  ...  \\\n",
      "id                                                                   ...   \n",
      "0    92.677127  11108.748199  10866.505510  10837.622093  10.227734  ...   \n",
      "1    99.855168  10013.959449  10826.607494  10076.101597  11.436970  ...   \n",
      "2    92.860892   9983.055476  10492.342868  10495.835570  10.810076  ...   \n",
      "3   101.929026  10050.049932  10499.521099  10525.030989  10.092109  ...   \n",
      "4    95.789235   9667.353978  10750.783106  10618.800750  12.006773  ...   \n",
      "\n",
      "            x822          x823        x824        x825        x826  \\\n",
      "id                                                                   \n",
      "0   10069.191241  12352.094085  846.014651  105.132144  102.112809   \n",
      "1   10069.191241  16198.071494  776.084467  106.385590  103.472030   \n",
      "2   10329.704431  13976.063780  737.040332  103.671234  109.458246   \n",
      "3   10008.251395   6212.127347  329.044233  105.084488  104.858546   \n",
      "4   10095.782015  13772.061493  812.316152  104.968652  100.369834   \n",
      "\n",
      "           x827      x828         x829         x830          x831  \n",
      "id                                                                 \n",
      "0   2090.004260  2.691845  1234.374109  1000.784475   9285.751272  \n",
      "1   2474.051881  2.287976  1359.981226  1012.626705  11750.284764  \n",
      "2   2656.083281  2.843706   888.353607  1048.810385   9553.922728  \n",
      "3   1097.785204  2.732257   927.752967  1048.357330   9981.085085  \n",
      "4   2693.053231  2.702908  1471.354073  1071.284484   9423.533063  \n",
      "\n",
      "[5 rows x 832 columns]\n"
     ]
    }
   ],
   "source": [
    "X_train.fillna(pd.Series(X_train.mean()), inplace=True)\n",
    "print(f\"Nan-values: {X_train.isna().sum().sum()}\")\n",
    "print(X_train.head())\n",
    "X_test.fillna(pd.Series(X_test.mean()), inplace=True)\n",
    "y_train.fillna(pd.Series(y_train.mean()), inplace=True)"
   ]
  },
  {
   "cell_type": "markdown",
   "id": "d86d4ae2",
   "metadata": {},
   "source": [
    "# 2. Outlier detection\n",
    "Next we build an outlier detection model to classify samples as outliers and eventually remove them"
   ]
  },
  {
   "cell_type": "code",
   "execution_count": 4,
   "id": "3c2064cd",
   "metadata": {},
   "outputs": [
    {
     "name": "stdout",
     "output_type": "stream",
     "text": [
      "Outlier indices: {np.int64(3), np.int64(515), np.int64(645), np.int64(900), np.int64(1031), np.int64(648), np.int64(906), np.int64(397), np.int64(917), np.int64(278), np.int64(24), np.int64(1048), np.int64(30), np.int64(416), np.int64(1056), np.int64(1058), np.int64(805), np.int64(167), np.int64(297), np.int64(681), np.int64(428), np.int64(306), np.int64(821), np.int64(694), np.int64(697), np.int64(953), np.int64(573), np.int64(190), np.int64(575), np.int64(64), np.int64(321), np.int64(448), np.int64(837), np.int64(70), np.int64(583), np.int64(75), np.int64(460), np.int64(972), np.int64(1102), np.int64(335), np.int64(474), np.int64(91), np.int64(731), np.int64(860), np.int64(991), np.int64(480), np.int64(225), np.int64(1120), np.int64(100), np.int64(229), np.int64(740), np.int64(231), np.int64(234), np.int64(362), np.int64(1137), np.int64(114), np.int64(882), np.int64(502), np.int64(1144), np.int64(506), np.int64(1150)}\n",
      "Number of outliers detected: 61\n"
     ]
    }
   ],
   "source": [
    "#outlier detection using isolation forest and guessing the contamination to be 5%\n",
    "\n",
    "from sklearn.ensemble import IsolationForest\n",
    "outlier_model = IsolationForest(contamination=0.05, random_state=42)\n",
    "outlier_model.fit(X_train)\n",
    "outlier_preds = outlier_model.predict(X_train)\n",
    "isoforest_outlier_indices = set(np.where(outlier_preds == -1)[0])\n",
    "\n",
    "print(\"Outlier indices:\", isoforest_outlier_indices)\n",
    "\n",
    "print(f\"Number of outliers detected: {len(isoforest_outlier_indices)}\")"
   ]
  },
  {
   "cell_type": "code",
   "execution_count": 5,
   "id": "cac8194d",
   "metadata": {},
   "outputs": [
    {
     "name": "stdout",
     "output_type": "stream",
     "text": [
      "SVM Outlier indices: [  16   30   32   56   70   72   88   91  142  168  180  207  211  214\n",
      "  245  278  313  321  334  352  397  403  404  431  518  537  545  553\n",
      "  570  574  583  616  622  631  633  635  681  694  731  732  741  755\n",
      "  771  805  806  808  836  872  882  888  899  900  906  917  949  953\n",
      "  972  990  994 1001 1038 1066 1081 1087 1102 1132 1135 1144 1205]\n",
      "Number of outliers detected by SVM: 69\n",
      "Number of common outliers detected by both methods: 19\n",
      "Common outlier indices: {np.int64(900), np.int64(906), np.int64(397), np.int64(917), np.int64(278), np.int64(30), np.int64(805), np.int64(681), np.int64(694), np.int64(953), np.int64(321), np.int64(70), np.int64(583), np.int64(972), np.int64(1102), np.int64(731), np.int64(91), np.int64(882), np.int64(1144)}\n"
     ]
    }
   ],
   "source": [
    "# outlier detection using OneClassSVM\n",
    "\n",
    "from sklearn.svm import OneClassSVM\n",
    "from sklearn.preprocessing import StandardScaler\n",
    "\n",
    "scaler = StandardScaler()\n",
    "X_train_scaled = scaler.fit_transform(X_train)\n",
    "\n",
    "svm_model = OneClassSVM(nu=0.01, kernel=\"rbf\", gamma=\"scale\")\n",
    "svm_model.fit(X_train_scaled)\n",
    "svm_preds = svm_model.predict(X_train_scaled)\n",
    "\n",
    "print(\"SVM Outlier indices:\", np.where(svm_preds == -1)[0])\n",
    "\n",
    "svm_outlier_indices = set(np.where(svm_preds == -1)[0])\n",
    "\n",
    "print(f\"Number of outliers detected by SVM: {np.sum(svm_preds == -1)}\")\n",
    "\n",
    "# Comparing the two methods\n",
    "common_outliers = isoforest_outlier_indices & svm_outlier_indices\n",
    "print(f\"Number of common outliers detected by both methods: {len(common_outliers)}\")\n",
    "print(\"Common outlier indices:\", common_outliers)"
   ]
  },
  {
   "cell_type": "code",
   "execution_count": 6,
   "id": "71f5a894",
   "metadata": {},
   "outputs": [
    {
     "name": "stdout",
     "output_type": "stream",
     "text": [
      "Cleaned X_train shape: (1193, 832), Cleaned y_train shape: (1193, 1)\n"
     ]
    }
   ],
   "source": [
    "#removing outliers from the training data\n",
    "X_train_cleaned = X_train.drop(index=X_train.index[list(common_outliers)])\n",
    "y_train_cleaned = y_train.drop(index=y_train.index[list(common_outliers)])\n",
    "print(f\"Cleaned X_train shape: {X_train_cleaned.shape}, Cleaned y_train shape: {y_train_cleaned.shape}\")"
   ]
  },
  {
   "cell_type": "markdown",
   "id": "84833e4d",
   "metadata": {},
   "source": [
    "# 3. Feature selection\n",
    "In order to perform a useful regression we need to select features suitable for the age prediction"
   ]
  },
  {
   "cell_type": "code",
   "execution_count": 7,
   "id": "eebc46c3",
   "metadata": {},
   "outputs": [],
   "source": [
    "\n",
    "def correlation_matrix_reduction():\n",
    "    corr_matrix = X_train_cleaned.corr().abs()  # absolute value\n",
    "\n",
    "    # Mask upper triangle\n",
    "    upper = corr_matrix.where(np.triu(np.ones(corr_matrix.shape), k=1).astype(bool))\n",
    "\n",
    "    # Find features with correlation > threshold\n",
    "    to_drop = [column for column in upper.columns if any(upper[column] > 0.9)]\n",
    "    print(\"Highly correlated features to drop:\", to_drop)\n",
    "    print(f\"Number of features to drop: {len(to_drop)}\")\n",
    "    return to_drop"
   ]
  },
  {
   "cell_type": "markdown",
   "id": "6df4d015",
   "metadata": {},
   "source": [
    "# Feature selection\n",
    "\n",
    "this step is harder than imagined, a new idea came to my mind:\n",
    "\n",
    "1: select a subset of features randomly, train and score the predictions, as well as the features used\n",
    "\n",
    "2: do it for another subset\n",
    "\n",
    "3: mark the features which occur in higher scored evolutions and use these for the final training"
   ]
  },
  {
   "cell_type": "code",
   "execution_count": null,
   "id": "6440cd8c",
   "metadata": {},
   "outputs": [
    {
     "ename": "ImportError",
     "evalue": "cannot import name 'RandomSubsetSelector' from 'subset_selector' (c:\\Users\\cgriede\\Desktop\\code\\AML-2025-Project-1\\subset_selector.py)",
     "output_type": "error",
     "traceback": [
      "\u001b[31m---------------------------------------------------------------------------\u001b[39m",
      "\u001b[31mImportError\u001b[39m                               Traceback (most recent call last)",
      "\u001b[36mCell\u001b[39m\u001b[36m \u001b[39m\u001b[32mIn[8]\u001b[39m\u001b[32m, line 2\u001b[39m\n\u001b[32m      1\u001b[39m \u001b[38;5;28;01mfrom\u001b[39;00m\u001b[38;5;250m \u001b[39m\u001b[34;01msklearn\u001b[39;00m\u001b[34;01m.\u001b[39;00m\u001b[34;01mensemble\u001b[39;00m\u001b[38;5;250m \u001b[39m\u001b[38;5;28;01mimport\u001b[39;00m GradientBoostingClassifier\n\u001b[32m----> \u001b[39m\u001b[32m2\u001b[39m \u001b[38;5;28;01mfrom\u001b[39;00m\u001b[38;5;250m \u001b[39m\u001b[34;01msubset_selector\u001b[39;00m\u001b[38;5;250m \u001b[39m\u001b[38;5;28;01mimport\u001b[39;00m RandomSubsetSelector\n\u001b[32m      5\u001b[39m selector = RandomSubsetSelector(\n\u001b[32m      6\u001b[39m     estimator=GradientBoostingClassifier(n_estimators=\u001b[32m100\u001b[39m, max_depth=\u001b[32m3\u001b[39m),\n\u001b[32m      7\u001b[39m     n_trials=\u001b[32m800\u001b[39m,          \u001b[38;5;66;03m# more trials → better coverage\u001b[39;00m\n\u001b[32m   (...)\u001b[39m\u001b[32m     13\u001b[39m     random_state=\u001b[32m42\u001b[39m,\n\u001b[32m     14\u001b[39m )\n\u001b[32m     16\u001b[39m X_selected = selector.fit_transform(X_train_cleaned, y_train_cleaned, feature_names=X_train_cleaned.columns.tolist())\n",
      "\u001b[31mImportError\u001b[39m: cannot import name 'RandomSubsetSelector' from 'subset_selector' (c:\\Users\\cgriede\\Desktop\\code\\AML-2025-Project-1\\subset_selector.py)"
     ]
    }
   ],
   "source": [
    "from sklearn.ensemble import GradientBoostingClassifier\n",
    "from subset_selector import RandomSubsetSelector\n",
    "\n",
    "\n",
    "selector = RandomSubsetSelector(\n",
    "    estimator=GradientBoostingClassifier(n_estimators=100, max_depth=3),\n",
    "    n_trials=800,          # more trials → better coverage\n",
    "    subset_frac=0.65,\n",
    "    cv=5,\n",
    "    top_k=60,\n",
    "    n_jobs=-1,\n",
    "    verbose=True,\n",
    "    random_state=42,\n",
    ")\n",
    "\n",
    "X_selected = selector.fit_transform(X_train_cleaned, y_train_cleaned, feature_names=X_train_cleaned.columns.tolist())\n",
    "\n",
    "print(\"\\n=== Top-10 most frequent features in best subsets ===\")\n",
    "print(selector.summary.head(10))\n",
    "\n",
    "print(\"Hello World\")"
   ]
  },
  {
   "cell_type": "code",
   "execution_count": null,
   "id": "6fb10368",
   "metadata": {},
   "outputs": [],
   "source": [
    "#remove unused dimensions\n",
    "dims_to_remove = PCA_reduction()\n",
    "def remove_dimensions(X):\n",
    "    if dims_to_remove is not None:\n",
    "        print(f\"Removed dimensions {len(dims_to_remove)}\")\n",
    "        return X.drop(columns=dims_to_remove)\n",
    "    return X\n",
    "\n",
    "X_train_cleaned = remove_dimensions(X_train_cleaned)\n",
    "X_test = remove_dimensions(X_test)"
   ]
  },
  {
   "cell_type": "code",
   "execution_count": null,
   "id": "118832d7",
   "metadata": {},
   "outputs": [],
   "source": [
    "cond_number = np.linalg.cond(X_train_cleaned.values)\n",
    "print(f\"Condition number of cleaned X_train: {cond_number}\")\n",
    "\n",
    "#the condition number is very high, indicating multicollinearity."
   ]
  },
  {
   "cell_type": "markdown",
   "id": "a33f0ae5",
   "metadata": {},
   "source": [
    "# Main Task\n",
    "we will train a model on the cleaned data and evaluate its predictive performance using a train test split on the training data"
   ]
  },
  {
   "cell_type": "code",
   "execution_count": null,
   "id": "fa8c94ea",
   "metadata": {},
   "outputs": [],
   "source": [
    "#Linear Regression for baseline and sanity check\n",
    "\n",
    "#Lasso regression with hyperparameter tuning using grid search and cross-validation\n",
    "\n",
    "from sklearn.model_selection import RepeatedKFold, GridSearchCV, train_test_split\n",
    "from sklearn.linear_model import LinearRegression\n",
    "from sklearn.metrics import r2_score\n",
    "\n",
    "X_train, X_t, y_train, y_t = train_test_split(X_train_cleaned, y_train_cleaned, test_size=0.1, random_state=42)\n",
    "\n",
    "\n",
    "lin_reg = LinearRegression()\n",
    "lin_reg.fit(X_train, y_train)\n",
    "y_train_pred = lin_reg.predict(X_train)\n",
    "y_t_pred = lin_reg.predict(X_t)\n",
    "\n",
    "print(\"Linear Regression Train R2:\", r2_score(y_train, y_train_pred))\n",
    "print(\"Linear Regression Test R2:\", r2_score(y_t, y_t_pred))"
   ]
  },
  {
   "cell_type": "code",
   "execution_count": null,
   "id": "03c45a64",
   "metadata": {},
   "outputs": [],
   "source": [
    "#Lasso regression with hyperparameter tuning using grid search and cross-validation\n",
    "\n",
    "from sklearn.model_selection import RepeatedKFold, GridSearchCV, train_test_split\n",
    "from sklearn.pipeline import Pipeline\n",
    "from sklearn.preprocessing import StandardScaler\n",
    "from sklearn.linear_model import Lasso\n",
    "from sklearn.metrics import make_scorer, mean_squared_error, r2_score\n",
    "\n",
    "X_train, X_t, y_train, y_t = train_test_split(X_train_cleaned, y_train_cleaned, test_size=0.1, random_state=42)\n",
    "\n",
    "pipe = Pipeline([\n",
    "    (\"scaler\", StandardScaler()),\n",
    "    (\"lasso\", Lasso())\n",
    "])\n",
    "\n",
    "param_grid = {\"lasso__alpha\": [0.2, 0.3, 0.4, 0.5, 0.75, 1]}\n",
    "\n",
    "cv = RepeatedKFold(n_splits=3, n_repeats=2, random_state=0)\n",
    "scorer = make_scorer(r2_score, greater_is_better=True)  # maximize R2\n",
    "\n",
    "lasso_gs = GridSearchCV(pipe, param_grid, cv=cv, scoring=\"r2\", n_jobs=-1)\n",
    "lasso_gs.fit(X_train, y_train)\n",
    "\n",
    "y_train_pred = lasso_gs.predict(X_train)\n",
    "y_t_pred = lasso_gs.predict(X_t)\n",
    "\n",
    "print(\"Best R2:\", lasso_gs.best_score_)\n",
    "print(\"Best params:\", lasso_gs.best_params_)\n",
    "print(\"Train R2:\", r2_score(y_train, y_train_pred))\n",
    "print(\"Test R2:\", r2_score(y_t, y_t_pred))"
   ]
  },
  {
   "cell_type": "code",
   "execution_count": null,
   "id": "3d0c0601",
   "metadata": {},
   "outputs": [],
   "source": [
    "#Ridge regression with hyperparameter tuning using grid search and cross-validation\n",
    "\n",
    "from sklearn.model_selection import RepeatedKFold, GridSearchCV\n",
    "from sklearn.pipeline import Pipeline\n",
    "from sklearn.preprocessing import StandardScaler\n",
    "from sklearn.linear_model import Ridge\n",
    "from sklearn.metrics import make_scorer, r2_score\n",
    "\n",
    "pipe = Pipeline([\n",
    "    (\"scaler\", StandardScaler()),\n",
    "    (\"ridge\", Ridge())\n",
    "])\n",
    "\n",
    "param_grid = {\"ridge__alpha\": [1, 50, 100]}\n",
    "\n",
    "cv = RepeatedKFold(n_splits=3, n_repeats=2, random_state=0)\n",
    "scorer = make_scorer(r2_score, greater_is_better=True)  # maximize R2\n",
    "\n",
    "ridge_gs = GridSearchCV(pipe, param_grid, cv=cv, scoring=\"r2\", n_jobs=-1)\n",
    "ridge_gs.fit(X_train, y_train)\n",
    "\n",
    "y_train_pred = ridge_gs.predict(X_train)\n",
    "\n",
    "print(\"Best R2:\", ridge_gs.best_score_)\n",
    "print(\"Best params:\", ridge_gs.best_params_)\n",
    "print(\"Train R2:\", r2_score(y_train, y_train_pred))\n"
   ]
  },
  {
   "cell_type": "markdown",
   "id": "eafaaf37",
   "metadata": {},
   "source": [
    "# Save the test results for online evaluation"
   ]
  },
  {
   "cell_type": "code",
   "execution_count": null,
   "id": "14764918",
   "metadata": {},
   "outputs": [],
   "source": [
    "from datetime import datetime\n",
    "\n",
    "results_dir = Path(\"results\")\n",
    "results_dir.mkdir(exist_ok=True)\n",
    "\n",
    "\n",
    "def save_test_predictions(model, model_name):\n",
    "    save_path = results_dir / f\"test_{model_name}_{datetime.now().strftime('%Y%m%d_%H%M%S')}.csv\"\n",
    "\n",
    "    y_test_pred = model.predict(X_test)\n",
    "    results_df = pd.DataFrame(y_test_pred, index=X_test.index, columns=[\"y\"])\n",
    "    assert (results_df.shape == (776, 1)), f\"Unexpected shape: {results_df.shape}\"\n",
    "    results_df.to_csv(save_path)\n",
    "    print(f\"Test predictions saved to {save_path}\")\n",
    "\n",
    "save_test_predictions(lasso_gs, \"lasso\")\n",
    "\n",
    "'kaggle competitions submit -c eth-aml-2025-project-1 -f submission.csv -m \"Message\"'"
   ]
  }
 ],
 "metadata": {
  "kernelspec": {
   "display_name": ".venv",
   "language": "python",
   "name": "python3"
  },
  "language_info": {
   "codemirror_mode": {
    "name": "ipython",
    "version": 3
   },
   "file_extension": ".py",
   "mimetype": "text/x-python",
   "name": "python",
   "nbconvert_exporter": "python",
   "pygments_lexer": "ipython3",
   "version": "3.13.9"
  }
 },
 "nbformat": 4,
 "nbformat_minor": 5
}
